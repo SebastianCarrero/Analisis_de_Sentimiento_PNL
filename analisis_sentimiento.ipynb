{
 "cells": [
  {
   "cell_type": "markdown",
   "metadata": {},
   "source": [
    "# **Analísis de sentimiento**\n",
    "\n",
    "## **Sebastián Carrero Cardona**"
   ]
  },
  {
   "cell_type": "markdown",
   "metadata": {},
   "source": [
    "# **Objetivo:**\n",
    "\n",
    "Realizar un análisis de sentimiento en una base de datos que contiene comentarios sobre varios juegos, cada uno de los cuales ya cuenta con una etiqueta de sentimiento predefinida. Luego, construir una tabla comparativa de la precisión obtenida mediante la evaluación de cuatro grupos de comentarios aleatorios en dos etapas. En la primera etapa, aplicaremos el análisis de sentimiento a cada grupo de comentarios sin realizar ningún tipo de preprocesamiento, mientras que en la segunda etapa aplicaremos preprocesamiento antes del análisis.\n"
   ]
  },
  {
   "cell_type": "markdown",
   "metadata": {},
   "source": [
    "## **Importación de librerías**"
   ]
  },
  {
   "cell_type": "code",
   "execution_count": 1,
   "metadata": {},
   "outputs": [
    {
     "name": "stderr",
     "output_type": "stream",
     "text": [
      "c:\\Users\\Sebastián Carrero\\AppData\\Local\\Programs\\Python\\Python310\\lib\\site-packages\\numpy\\_distributor_init.py:30: UserWarning: loaded more than 1 DLL from .libs:\n",
      "c:\\Users\\Sebastián Carrero\\AppData\\Local\\Programs\\Python\\Python310\\lib\\site-packages\\numpy\\.libs\\libopenblas.FB5AE2TYXYH2IJRDKGDGQ3XBKLKTF43H.gfortran-win_amd64.dll\n",
      "c:\\Users\\Sebastián Carrero\\AppData\\Local\\Programs\\Python\\Python310\\lib\\site-packages\\numpy\\.libs\\libopenblas64__v0.3.23-246-g3d31191b-gcc_10_3_0.dll\n",
      "  warnings.warn(\"loaded more than 1 DLL from .libs:\"\n",
      "[nltk_data] Downloading package punkt to C:\\Users\\Sebastián\n",
      "[nltk_data]     Carrero\\AppData\\Roaming\\nltk_data...\n",
      "[nltk_data]   Package punkt is already up-to-date!\n",
      "[nltk_data] Downloading package stopwords to C:\\Users\\Sebastián\n",
      "[nltk_data]     Carrero\\AppData\\Roaming\\nltk_data...\n",
      "[nltk_data]   Package stopwords is already up-to-date!\n"
     ]
    },
    {
     "data": {
      "text/plain": [
       "True"
      ]
     },
     "execution_count": 1,
     "metadata": {},
     "output_type": "execute_result"
    }
   ],
   "source": [
    "import pandas as pd\n",
    "import random\n",
    "from vaderSentiment.vaderSentiment import SentimentIntensityAnalyzer\n",
    "import nltk\n",
    "import unicodedata\n",
    "from nltk.corpus import stopwords\n",
    "\n",
    "nltk.download('punkt')\n",
    "nltk.download('stopwords')"
   ]
  },
  {
   "cell_type": "markdown",
   "metadata": {},
   "source": [
    "## **Cargamos dataset con los comentarios**"
   ]
  },
  {
   "cell_type": "code",
   "execution_count": 16,
   "metadata": {},
   "outputs": [
    {
     "data": {
      "text/html": [
       "<div>\n",
       "<style scoped>\n",
       "    .dataframe tbody tr th:only-of-type {\n",
       "        vertical-align: middle;\n",
       "    }\n",
       "\n",
       "    .dataframe tbody tr th {\n",
       "        vertical-align: top;\n",
       "    }\n",
       "\n",
       "    .dataframe thead th {\n",
       "        text-align: right;\n",
       "    }\n",
       "</style>\n",
       "<table border=\"1\" class=\"dataframe\">\n",
       "  <thead>\n",
       "    <tr style=\"text-align: right;\">\n",
       "      <th></th>\n",
       "      <th>Registro</th>\n",
       "      <th>Juego</th>\n",
       "      <th>Sentimiento</th>\n",
       "      <th>Comentario</th>\n",
       "    </tr>\n",
       "  </thead>\n",
       "  <tbody>\n",
       "    <tr>\n",
       "      <th>0</th>\n",
       "      <td>2401</td>\n",
       "      <td>Borderlands</td>\n",
       "      <td>Positive</td>\n",
       "      <td>im getting on borderlands and i will murder yo...</td>\n",
       "    </tr>\n",
       "    <tr>\n",
       "      <th>1</th>\n",
       "      <td>2401</td>\n",
       "      <td>Borderlands</td>\n",
       "      <td>Positive</td>\n",
       "      <td>I am coming to the borders and I will kill you...</td>\n",
       "    </tr>\n",
       "    <tr>\n",
       "      <th>2</th>\n",
       "      <td>2401</td>\n",
       "      <td>Borderlands</td>\n",
       "      <td>Positive</td>\n",
       "      <td>im getting on borderlands and i will kill you ...</td>\n",
       "    </tr>\n",
       "    <tr>\n",
       "      <th>3</th>\n",
       "      <td>2401</td>\n",
       "      <td>Borderlands</td>\n",
       "      <td>Positive</td>\n",
       "      <td>im coming on borderlands and i will murder you...</td>\n",
       "    </tr>\n",
       "    <tr>\n",
       "      <th>4</th>\n",
       "      <td>2401</td>\n",
       "      <td>Borderlands</td>\n",
       "      <td>Positive</td>\n",
       "      <td>im getting on borderlands 2 and i will murder ...</td>\n",
       "    </tr>\n",
       "    <tr>\n",
       "      <th>...</th>\n",
       "      <td>...</td>\n",
       "      <td>...</td>\n",
       "      <td>...</td>\n",
       "      <td>...</td>\n",
       "    </tr>\n",
       "    <tr>\n",
       "      <th>74677</th>\n",
       "      <td>9200</td>\n",
       "      <td>Nvidia</td>\n",
       "      <td>Positive</td>\n",
       "      <td>Just realized that the Windows partition of my...</td>\n",
       "    </tr>\n",
       "    <tr>\n",
       "      <th>74678</th>\n",
       "      <td>9200</td>\n",
       "      <td>Nvidia</td>\n",
       "      <td>Positive</td>\n",
       "      <td>Just realized that my Mac window partition is ...</td>\n",
       "    </tr>\n",
       "    <tr>\n",
       "      <th>74679</th>\n",
       "      <td>9200</td>\n",
       "      <td>Nvidia</td>\n",
       "      <td>Positive</td>\n",
       "      <td>Just realized the windows partition of my Mac ...</td>\n",
       "    </tr>\n",
       "    <tr>\n",
       "      <th>74680</th>\n",
       "      <td>9200</td>\n",
       "      <td>Nvidia</td>\n",
       "      <td>Positive</td>\n",
       "      <td>Just realized between the windows partition of...</td>\n",
       "    </tr>\n",
       "    <tr>\n",
       "      <th>74681</th>\n",
       "      <td>9200</td>\n",
       "      <td>Nvidia</td>\n",
       "      <td>Positive</td>\n",
       "      <td>Just like the windows partition of my Mac is l...</td>\n",
       "    </tr>\n",
       "  </tbody>\n",
       "</table>\n",
       "<p>74682 rows × 4 columns</p>\n",
       "</div>"
      ],
      "text/plain": [
       "       Registro        Juego Sentimiento  \\\n",
       "0          2401  Borderlands    Positive   \n",
       "1          2401  Borderlands    Positive   \n",
       "2          2401  Borderlands    Positive   \n",
       "3          2401  Borderlands    Positive   \n",
       "4          2401  Borderlands    Positive   \n",
       "...         ...          ...         ...   \n",
       "74677      9200       Nvidia    Positive   \n",
       "74678      9200       Nvidia    Positive   \n",
       "74679      9200       Nvidia    Positive   \n",
       "74680      9200       Nvidia    Positive   \n",
       "74681      9200       Nvidia    Positive   \n",
       "\n",
       "                                              Comentario  \n",
       "0      im getting on borderlands and i will murder yo...  \n",
       "1      I am coming to the borders and I will kill you...  \n",
       "2      im getting on borderlands and i will kill you ...  \n",
       "3      im coming on borderlands and i will murder you...  \n",
       "4      im getting on borderlands 2 and i will murder ...  \n",
       "...                                                  ...  \n",
       "74677  Just realized that the Windows partition of my...  \n",
       "74678  Just realized that my Mac window partition is ...  \n",
       "74679  Just realized the windows partition of my Mac ...  \n",
       "74680  Just realized between the windows partition of...  \n",
       "74681  Just like the windows partition of my Mac is l...  \n",
       "\n",
       "[74682 rows x 4 columns]"
      ]
     },
     "execution_count": 16,
     "metadata": {},
     "output_type": "execute_result"
    }
   ],
   "source": [
    "df = pd.read_csv('../PROCESAMIENTO_LENGUAJE_NATUAL/comentarios.csv')\n",
    "df"
   ]
  },
  {
   "cell_type": "code",
   "execution_count": 17,
   "metadata": {},
   "outputs": [],
   "source": [
    "#Converción de todos los comentarios a tipo string\n",
    "df['Comentario'] = df['Comentario'].astype(str)"
   ]
  },
  {
   "cell_type": "code",
   "execution_count": 10,
   "metadata": {},
   "outputs": [],
   "source": [
    "#Función para preprocesamiento\n",
    "def preprocess(text):\n",
    "    text = text.replace('-', ' ').lower()\n",
    "    text = ''.join((c for c in unicodedata.normalize('NFD', text) if unicodedata.category(c) != 'Mn'))\n",
    "    tokens = nltk.word_tokenize(text)\n",
    "    tokens = [word for word in tokens if word.isalnum() and word not in stopwords.words('english')]\n",
    "    return ' '.join(tokens)"
   ]
  },
  {
   "cell_type": "code",
   "execution_count": 18,
   "metadata": {},
   "outputs": [],
   "source": [
    "#Crea una función para realizar el análisis de sentimiento con vaderSentiment y comparar los resultados:\n",
    "def analizar_sentimiento(comentarios, preprocesar=True):\n",
    "    analyzer = SentimentIntensityAnalyzer()\n",
    "    resultados = []\n",
    "\n",
    "    for comentario in comentarios:\n",
    "        texto = comentario['Comentario']\n",
    "\n",
    "        if preprocesar:\n",
    "            texto = preprocess(texto)\n",
    "\n",
    "        # Realizar análisis de sentimiento\n",
    "        sentiment = analyzer.polarity_scores(texto)\n",
    "\n",
    "        # Determinar la etiqueta basada en el análisis\n",
    "        if sentiment['compound'] >= 0.05:\n",
    "            sentimiento_predicho = 'Positive'\n",
    "        elif sentiment['compound'] <= -0.05:\n",
    "            sentimiento_predicho = 'Negative'\n",
    "        else:\n",
    "            sentimiento_predicho = 'Neutral'\n",
    "\n",
    "        # Guardar el resultado en una lista\n",
    "        resultados.append({\n",
    "            'Comentario': texto,\n",
    "            'Sentimiento_Real': comentario['Sentimiento'],\n",
    "            'Sentimiento_Predicho': sentimiento_predicho\n",
    "        })\n",
    "\n",
    "    return resultados"
   ]
  },
  {
   "cell_type": "code",
   "execution_count": 19,
   "metadata": {},
   "outputs": [],
   "source": [
    "#Generar grupos aleatorios de comentarios y realizar el análisis de sentimiento para cada grupo\n",
    "random.seed(42)  # Establece una semilla para reproducibilidad\n",
    "grupos = {\n",
    "    5: random.sample(df.to_dict(orient='records'), 5),\n",
    "    10: random.sample(df.to_dict(orient='records'), 10),\n",
    "    15: random.sample(df.to_dict(orient='records'), 15),\n",
    "    20: random.sample(df.to_dict(orient='records'), 20)\n",
    "}\n",
    "\n",
    "resultados_totales = {}\n",
    "\n",
    "for tamano_grupo, comentarios_grupo in grupos.items():\n",
    "    resultados_sin_preprocesar = analizar_sentimiento(comentarios_grupo, preprocesar=False)\n",
    "    resultados_con_preprocesamiento = analizar_sentimiento(comentarios_grupo, preprocesar=True)\n",
    "    \n",
    "    resultados_totales[tamano_grupo] = {\n",
    "        'Sin_Preprocesamiento': resultados_sin_preprocesar,\n",
    "        'Con_Preprocesamiento': resultados_con_preprocesamiento\n",
    "    }"
   ]
  },
  {
   "cell_type": "code",
   "execution_count": 21,
   "metadata": {},
   "outputs": [
    {
     "data": {
      "text/html": [
       "<div>\n",
       "<style scoped>\n",
       "    .dataframe tbody tr th:only-of-type {\n",
       "        vertical-align: middle;\n",
       "    }\n",
       "\n",
       "    .dataframe tbody tr th {\n",
       "        vertical-align: top;\n",
       "    }\n",
       "\n",
       "    .dataframe thead th {\n",
       "        text-align: right;\n",
       "    }\n",
       "</style>\n",
       "<table border=\"1\" class=\"dataframe\">\n",
       "  <thead>\n",
       "    <tr style=\"text-align: right;\">\n",
       "      <th></th>\n",
       "      <th>Sin_Preprocesamiento</th>\n",
       "      <th>Con_Preprocesamiento</th>\n",
       "    </tr>\n",
       "  </thead>\n",
       "  <tbody>\n",
       "    <tr>\n",
       "      <th>5</th>\n",
       "      <td>0.60</td>\n",
       "      <td>0.600000</td>\n",
       "    </tr>\n",
       "    <tr>\n",
       "      <th>10</th>\n",
       "      <td>0.50</td>\n",
       "      <td>0.500000</td>\n",
       "    </tr>\n",
       "    <tr>\n",
       "      <th>15</th>\n",
       "      <td>0.40</td>\n",
       "      <td>0.333333</td>\n",
       "    </tr>\n",
       "    <tr>\n",
       "      <th>20</th>\n",
       "      <td>0.65</td>\n",
       "      <td>0.600000</td>\n",
       "    </tr>\n",
       "  </tbody>\n",
       "</table>\n",
       "</div>"
      ],
      "text/plain": [
       "    Sin_Preprocesamiento  Con_Preprocesamiento\n",
       "5                   0.60              0.600000\n",
       "10                  0.50              0.500000\n",
       "15                  0.40              0.333333\n",
       "20                  0.65              0.600000"
      ]
     },
     "execution_count": 21,
     "metadata": {},
     "output_type": "execute_result"
    }
   ],
   "source": [
    "#Calcula la precisión para cada grupo y muestra los resultados\n",
    "from sklearn.metrics import accuracy_score\n",
    "\n",
    "precisones = {}\n",
    "\n",
    "for tamano_grupo, resultados in resultados_totales.items():\n",
    "    y_real = [resultado['Sentimiento_Real'] for resultado in resultados['Sin_Preprocesamiento']]\n",
    "    y_pred_sin_preprocesamiento = [resultado['Sentimiento_Predicho'] for resultado in resultados['Sin_Preprocesamiento']]\n",
    "    y_pred_con_preprocesamiento = [resultado['Sentimiento_Predicho'] for resultado in resultados['Con_Preprocesamiento']]\n",
    "    \n",
    "    precision_sin_preprocesamiento = accuracy_score(y_real, y_pred_sin_preprocesamiento)\n",
    "    precision_con_preprocesamiento = accuracy_score(y_real, y_pred_con_preprocesamiento)\n",
    "    \n",
    "    precisones[tamano_grupo] = {\n",
    "        'Sin_Preprocesamiento': precision_sin_preprocesamiento,\n",
    "        'Con_Preprocesamiento': precision_con_preprocesamiento\n",
    "    }\n",
    "\n",
    "# Mostrar la tabla comparativa de precisión\n",
    "tabla_comparativa = pd.DataFrame(precisones).T\n",
    "tabla_comparativa"
   ]
  },
  {
   "cell_type": "markdown",
   "metadata": {},
   "source": [
    "## **Conclusiones:**\n",
    "\n",
    "**Sin Preprocesamiento vs. Con Preprocesamiento:**\n",
    "\n",
    "En general, la precisión del análisis de sentimiento es similar tanto para los comentarios sin preprocesamiento como para los comentarios con preprocesamiento. En todos los tamaños de grupo (5, 10, 15 y 20 comentarios), las precisiones son bastante cercanas entre sí para ambas condiciones.\n",
    "\n",
    "**Tamaño del Grupo:**\n",
    "\n",
    "No parece haber una tendencia clara en la precisión en relación con el tamaño del grupo. Por ejemplo, no podemos concluir que un grupo más grande o más pequeño tenga una precisión significativamente diferente.\n",
    "\n",
    "**Resultados Esperados:**\n",
    "\n",
    "Las precisiones que varían entre 0.40 y 0.65 indican que el análisis de sentimiento no es perfecto, y hay margen para mejorar la precisión en ambos casos (con y sin preprocesamiento). Es importante destacar que los resultados pueden depender en gran medida de la calidad y la diversidad de los comentarios en el conjunto de datos, así como de la efectividad de la librería de análisis de sentimiento utilizada (VADER en este caso).\n",
    "\n",
    "**Impacto del Preprocesamiento:**\n",
    "\n",
    "Aunque el preprocesamiento completo de texto (eliminación de guiones, minúsculas, eliminación de acentos y eliminación de stopwords) tiende a tener resultados ligeramente inferiores en términos de precisión en este conjunto de datos específico, este no es necesariamente el caso en todos los conjuntos de datos. El impacto del preprocesamiento puede variar según la naturaleza y la calidad de los comentarios."
   ]
  }
 ],
 "metadata": {
  "kernelspec": {
   "display_name": "Python 3",
   "language": "python",
   "name": "python3"
  },
  "language_info": {
   "codemirror_mode": {
    "name": "ipython",
    "version": 3
   },
   "file_extension": ".py",
   "mimetype": "text/x-python",
   "name": "python",
   "nbconvert_exporter": "python",
   "pygments_lexer": "ipython3",
   "version": "3.10.4"
  },
  "orig_nbformat": 4
 },
 "nbformat": 4,
 "nbformat_minor": 2
}
